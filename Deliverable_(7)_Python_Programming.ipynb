{
  "nbformat": 4,
  "nbformat_minor": 0,
  "metadata": {
    "colab": {
      "provenance": []
    },
    "kernelspec": {
      "name": "python3",
      "display_name": "Python 3"
    },
    "language_info": {
      "name": "python"
    }
  },
  "cells": [
    {
      "cell_type": "code",
      "source": [
        "import pandas as pd\n",
        "\n",
        "def get_even_numbers(n):\n",
        "    even_list = []\n",
        "    i = 0\n",
        "    while len(even_list) < n:\n",
        "        if i % 2 == 0:\n",
        "            even_list.append(i)\n",
        "        i += 1\n",
        "    return even_list\n",
        "\n",
        "def get_odd_numbers(n):\n",
        "    odd_list = []\n",
        "    i = 1\n",
        "    while len(odd_list) < n:\n",
        "        odd_list.append(i)\n",
        "        i += 2\n",
        "    return odd_list\n",
        "\n",
        "def get_fibonacci_numbers(n):\n",
        "    fibonacci_list = []\n",
        "    i = 0\n",
        "    j = 1\n",
        "    while len(fibonacci_list) < n:\n",
        "        fibonacci_list.append(i)\n",
        "        i, j = j, i+j\n",
        "    return fibonacci_list\n",
        "\n",
        "n = int(input(\"Enter an integer value greater than 0: \"))\n",
        "\n",
        "if n > 0:\n",
        "    even_list = get_even_numbers(n)\n",
        "    odd_list = get_odd_numbers(n)\n",
        "    fibonacci_list = get_fibonacci_numbers(n)\n",
        "\n",
        "    df = pd.DataFrame({\n",
        "        'Even Numbers': even_list,\n",
        "        'Odd Numbers': odd_list,\n",
        "        'Fibonacci Numbers': fibonacci_list\n",
        "    })\n",
        "\n",
        "    print(df)\n",
        "else: \n",
        "    print(\"Invalid input. Please enter an integer value greater than 0.\")\n"
      ],
      "metadata": {
        "colab": {
          "base_uri": "https://localhost:8080/"
        },
        "id": "fgHsG_xuk-cf",
        "outputId": "e8f4d963-d463-4973-fac5-f641de6fb747"
      },
      "execution_count": 6,
      "outputs": [
        {
          "output_type": "stream",
          "name": "stdout",
          "text": [
            "Enter an integer value greater than 0: 4\n",
            "   Even Numbers  Odd Numbers  Fibonacci Numbers\n",
            "0             0            1                  0\n",
            "1             2            3                  1\n",
            "2             4            5                  1\n",
            "3             6            7                  2\n"
          ]
        }
      ]
    }
  ]
}